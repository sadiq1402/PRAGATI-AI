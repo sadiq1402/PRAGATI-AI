{
  "nbformat": 4,
  "nbformat_minor": 0,
  "metadata": {
    "colab": {
      "provenance": []
    },
    "kernelspec": {
      "name": "python3",
      "display_name": "Python 3"
    },
    "language_info": {
      "name": "python"
    }
  },
  "cells": [
    {
      "cell_type": "markdown",
      "source": [
        "# **PRAGATI** - Pollination Real-time Analysis for Growth in Agriculture using Tracking and Insights\n",
        "\n",
        "* **Background: What is the problem's context?**\n",
        "Effective pollination is essential for a good strawberry harvest. Farmers often struggle to know if their crops are being pollinated enough because manual checking is difficult and time-consuming, especially over large areas.\n",
        "\n",
        "* **Problem: What is the problem being solved?**\n",
        "The project solves the lack of an efficient and affordable way for farmers to monitor pollinator activity and assess the risk of poor pollination. This information gap can lead to smaller harvests and less income.\n",
        "\n",
        "* **Customer: Who is it for?**\n",
        "The system is built for strawberry farmers, particularly those with small to medium-sized farms. It's designed to be affordable and accessible, with different hardware options for different farm sizes.\n",
        "\n",
        "* **Value Proposition: Why does it need to be solved?**\n",
        "By providing farmers with accurate, real-time data, this system helps them increase crop yields by an estimated 15-25%. It allows them to move from guesswork to data-driven decisions, improving their farm's productivity and profitability.\n",
        "\n",
        "* **Product: What does the solution look like?**\n",
        "The product is an AI-powered monitoring system. It uses cameras in the field to capture images, a machine learning model (YOLOv11n) to detect bees and flowers, and a simple web application (built with Streamlit) where farmers can see the results, check weather data, and get recommendations.\n",
        "\n",
        "* **Objectives: What are the key project objectives?**\n",
        "The main goals are to build an accurate detection model for bees and flowers, integrate weather data for a more complete picture, and deliver a user-friendly application that provides farmers with clear, actionable advice.\n",
        "\n",
        "* **Risks and Challenges: What are the challenges and how can they be overcome?**\n",
        "A key challenge was making the AI model accurately detect bees and tell them apart from flowers. This was solved by training the model on a large, specific dataset of bee and flower images and using data augmentation to help it learn the differences.\n",
        "\n",
        "* **Task: What type of prediction problem is this?**\n",
        "This is an object detection problem. The system is trained to find and count specific objects—namely bees and strawberry flowers—in images.\n",
        "\n",
        "* **Metrics: How will the solution be evaluated?**\n",
        "The AI model's performance is measured by its precision (96%), recall (98%), mean Average Precision@50 (96%) and mean Average Precision@50-95 (81%). The ultimate business metric is the improvement in crop yield, with a target of 15-25%.\n",
        "\n",
        "* **Evaluation: How will the evaluation be performed?**\n",
        "The system was tested against a validation set of images to measure its accuracy. Different models were compared, and YOLOv11n was chosen because it offered the best balance of accuracy and efficiency for use on low-cost hardware in the field.\n",
        "\n",
        "* **Data: What type of data is needed?**\n",
        "The model was trained on a comprehensive dataset of over 8,000+ images. This dataset was carefully curated and labeled, containing images of pollinators, flowers, and various backgrounds to ensure the model could perform reliably in real-world conditions.\n",
        "\n",
        "* **Plan/Roadmap: What is the project plan?**\n",
        "The project is split into seven milestones, starting with setup and model creation, and moving on to integrating weather data and building the app. The detection models are complete, and the next steps are to build the rule-based logic and the user application.\n",
        "\n",
        "* **Continuous Improvement: How will the system improve?**\n",
        "The system is designed to get smarter over time. As new images are collected from the cameras in the field, they can be used to retrain the model, making its detections even more accurate and reliable.\n",
        "\n",
        "* **Resources - Human: What type of team is needed?**\n",
        "A project like this requires a team with skills in machine learning (to build the AI), software development (for the app), and ideally, some agricultural expertise to ensure the recommendations are practical for farmers.\n",
        "\n",
        "* **Resources - Compute: What type of computers are needed?**\n",
        "Training the AI model requires a powerful computer with a GPU. However, the system is designed to run in the field on low-cost hardware, like a Raspberry Pi or an ESP32-CAM, making it affordable for farmers to deploy."
      ],
      "metadata": {
        "id": "5wCqU50CeZNo"
      }
    }
  ]
}
